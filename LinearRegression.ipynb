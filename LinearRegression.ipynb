{
 "metadata": {
  "language_info": {
   "codemirror_mode": {
    "name": "ipython",
    "version": 3
   },
   "file_extension": ".py",
   "mimetype": "text/x-python",
   "name": "python",
   "nbconvert_exporter": "python",
   "pygments_lexer": "ipython3",
   "version": "3.7.6-final"
  },
  "orig_nbformat": 2,
  "kernelspec": {
   "name": "python3",
   "display_name": "Python 3"
  }
 },
 "nbformat": 4,
 "nbformat_minor": 2,
 "cells": [
  {
   "cell_type": "code",
   "execution_count": 50,
   "metadata": {},
   "outputs": [],
   "source": [
    "import pandas as pd\n",
    "import numpy as np\n",
    "from sklearn.model_selection import cross_val_score\n",
    "from sklearn.linear_model import LinearRegression\n",
    "from sklearn.model_selection import train_test_split\n",
    "from sklearn.model_selection import KFold\n",
    "from sklearn.metrics import r2_score, mean_squared_error\n",
    "\n",
    "from sklearn import metrics"
   ]
  },
  {
   "cell_type": "code",
   "execution_count": 27,
   "metadata": {},
   "outputs": [
    {
     "output_type": "execute_result",
     "data": {
      "text/plain": [
       "Index(['UNIXTime', 'Time', 'Radiation', 'Temperature', 'Pressure', 'Humidity',\n",
       "       'WindDirection(Degrees)', 'Speed', 'TimeSunRise', 'TimeSunSet', 'Date',\n",
       "       'Hour', 'Month', 'SecondsAfterSunRise', 'MinutesAfterSunRise',\n",
       "       'WindDirection_int', 'Hour_7', 'Hour_8', 'Hour_9', 'Hour_10', 'Hour_11',\n",
       "       'Hour_12', 'Hour_13', 'Hour_14', 'Hour_15', 'Hour_16', 'Hour_17',\n",
       "       'Hour_18', 'Month_9', 'Month_10', 'Month_11', 'Month_12', 'Speed_2',\n",
       "       'Speed_3', 'Humidity_2', 'WindDirection_2', 'Pressure_2', 'Hour_2'],\n",
       "      dtype='object')"
      ]
     },
     "metadata": {},
     "execution_count": 27
    }
   ],
   "source": [
    "sun_df = pd.read_csv('Solar_Features.csv')\n",
    "sun_df.columns"
   ]
  },
  {
   "cell_type": "code",
   "execution_count": 73,
   "metadata": {},
   "outputs": [],
   "source": [
    "# function to get cross validation scores\n",
    "def cv_scores(model):\n",
    "    scores = cross_val_score(model, X_train, y_train, cv=5, scoring='r2')\n",
    "    print(f'R score mean: {np.mean(scores)}')\n",
    "    print(f'R score STD: {np.std(scores)}')\n"
   ]
  },
  {
   "source": [
    "# Linear Regression (No Higher-Order Terms)"
   ],
   "cell_type": "markdown",
   "metadata": {}
  },
  {
   "cell_type": "code",
   "execution_count": 83,
   "metadata": {},
   "outputs": [
    {
     "output_type": "stream",
     "name": "stdout",
     "text": [
      "R score mean: 0.7044469965624911\nR score STD: 0.009887760063863025\n"
     ]
    }
   ],
   "source": [
    "# explanatory and response variables\n",
    "X = sun_df[['Temperature', 'Pressure', 'Humidity',\n",
    "       'WindDirection(Degrees)', 'Speed', \n",
    "       'Hour_7', 'Hour_8', 'Hour_9', 'Hour_10', 'Hour_11',\n",
    "       'Hour_12', 'Hour_13', 'Hour_14', 'Hour_15', 'Hour_16', 'Hour_17',\n",
    "       'Hour_18', 'Month_9', 'Month_10', 'Month_11', 'Month_12']]\n",
    "y = sun_df['Radiation']\n",
    "\n",
    "# split into training and testing set\n",
    "X_train, X_test, y_train, y_test = train_test_split(X, y, test_size = .30, random_state=66)\n",
    "#, 'WindDirection(Degrees)'\n",
    "\n",
    "#Instantiate\n",
    "lm_model = LinearRegression(normalize=True) \n",
    "\n",
    "#Fit - why does this break?\n",
    "lm_model.fit(X_train, y_train) \n",
    "\n",
    "# scores\n",
    "cv_scores(lm_model)"
   ]
  },
  {
   "source": [
    "# Linear Regression (With Higher-Order Terms)"
   ],
   "cell_type": "markdown",
   "metadata": {}
  },
  {
   "cell_type": "code",
   "execution_count": 84,
   "metadata": {},
   "outputs": [
    {
     "output_type": "stream",
     "name": "stdout",
     "text": [
      "R score mean: 0.7247803014935117\nR score STD: 0.009656203014365735\n"
     ]
    }
   ],
   "source": [
    "# explanatory and response variables\n",
    "X = sun_df[['Temperature', 'Pressure', 'Humidity',\n",
    "       'WindDirection(Degrees)', 'Speed',\n",
    "       'Hour_7', 'Hour_8', 'Hour_9', 'Hour_10', 'Hour_11',\n",
    "       'Hour_12', 'Hour_13', 'Hour_14', 'Hour_15', 'Hour_16', 'Hour_17',\n",
    "       'Hour_18', 'Month_9', 'Month_10', 'Month_11', 'Month_12', 'Speed_2',\n",
    "       'Speed_3', 'Humidity_2', 'WindDirection_2', 'Pressure_2']]\n",
    "y = sun_df['Radiation']\n",
    "\n",
    "# split into training and testing set\n",
    "X_train, X_test, y_train, y_test = train_test_split(X, y, test_size = .30, random_state=66)\n",
    "#, 'WindDirection(Degrees)'\n",
    "\n",
    "#Instantiate\n",
    "lm_model = LinearRegression(normalize=True) \n",
    "\n",
    "#Fit - why does this break?\n",
    "lm_model.fit(X_train, y_train) \n",
    "\n",
    "# scores\n",
    "cv_scores(lm_model)"
   ]
  },
  {
   "source": [
    "# Ridge Regression"
   ],
   "cell_type": "markdown",
   "metadata": {}
  },
  {
   "cell_type": "code",
   "execution_count": 76,
   "metadata": {},
   "outputs": [
    {
     "output_type": "stream",
     "name": "stdout",
     "text": [
      "R score mean: 0.7248166350733214\nR score STD: 0.009668938886184721\n"
     ]
    }
   ],
   "source": [
    "from sklearn.linear_model import Ridge\n",
    "\n",
    "# Train model with default alpha=1\n",
    "ridge = Ridge(alpha=1).fit(X_train, y_train)\n",
    "# get cross val scores\n",
    "cv_scores(ridge)"
   ]
  },
  {
   "source": [
    "### Grid Search"
   ],
   "cell_type": "markdown",
   "metadata": {}
  },
  {
   "cell_type": "code",
   "execution_count": 88,
   "metadata": {},
   "outputs": [
    {
     "output_type": "stream",
     "name": "stdout",
     "text": [
      "Best Score:  0.7247560227410288\nBest Params:  {'alpha': 0.2}\n"
     ]
    }
   ],
   "source": [
    "# set up a grid search over parameters\n",
    "from sklearn.model_selection import GridSearchCV\n",
    "from sklearn.model_selection import ShuffleSplit\n",
    "\n",
    "# set up dictionary for grid search \n",
    "param_grid = {'alpha':[0.005, 0.05, 0.1, 0.2, 0.3, 0.5, 1.]}\n",
    "# set up cross-validation shuffles\n",
    "shuffle_split = ShuffleSplit(test_size=0.3, train_size=0.7, n_splits=25)\n",
    "# set up search\n",
    "grid_search = GridSearchCV(estimator=ridge, param_grid=param_grid, cv=shuffle_split, scoring='r2', \n",
    "                              return_train_score=True)\n",
    "# implement search\n",
    "grid_search.fit(X,y)\n",
    "# move results into DataFrame\n",
    "results = pd.DataFrame(grid_search.cv_results_)\n",
    "#print(results)\n",
    "print('Best Score: ', grid_search.best_score_)\n",
    "print('Best Params: ', grid_search.best_params_)\n"
   ]
  },
  {
   "source": [
    "# Lasso Regression"
   ],
   "cell_type": "markdown",
   "metadata": {}
  },
  {
   "cell_type": "code",
   "execution_count": 79,
   "metadata": {},
   "outputs": [
    {
     "output_type": "stream",
     "name": "stdout",
     "text": [
      "R score mean: 0.715844742638601\nR score STD: 0.0100963388376416\n"
     ]
    }
   ],
   "source": [
    "from sklearn.linear_model import Lasso\n",
    "\n",
    "# Train model with default alpha=1\n",
    "lasso = Lasso(alpha=1).fit(X_train, y_train)\n",
    "# get cross val scores\n",
    "cv_scores(lasso)"
   ]
  },
  {
   "cell_type": "code",
   "execution_count": 90,
   "metadata": {},
   "outputs": [
    {
     "output_type": "stream",
     "name": "stdout",
     "text": [
      "Best Score:  0.724665613412773\nBest Params:  {'alpha': 0.005}\n"
     ]
    }
   ],
   "source": [
    "# set up dictionary for grid search \n",
    "param_grid = {'alpha':[0.001, 0.005, 0.05, 0.1, 0.2, 0.3, 0.5, 1.]}\n",
    "# set up cross-validation shuffles\n",
    "shuffle_split = ShuffleSplit(test_size=0.3, train_size=0.7, n_splits=25)\n",
    "# set up search\n",
    "grid_search = GridSearchCV(estimator=lasso, param_grid=param_grid, cv=shuffle_split, scoring='r2', \n",
    "                              return_train_score=True)\n",
    "# implement search\n",
    "grid_search.fit(X,y)\n",
    "# move results into DataFrame\n",
    "results = pd.DataFrame(grid_search.cv_results_)\n",
    "#print(results)\n",
    "print('Best Score: ', grid_search.best_score_)\n",
    "print('Best Params: ', grid_search.best_params_)"
   ]
  },
  {
   "cell_type": "code",
   "execution_count": null,
   "metadata": {},
   "outputs": [],
   "source": []
  }
 ]
}